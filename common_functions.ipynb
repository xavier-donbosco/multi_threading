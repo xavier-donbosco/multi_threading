{
 "cells": [
  {
   "cell_type": "code",
   "execution_count": 0,
   "metadata": {
    "application/vnd.databricks.v1+cell": {
     "cellMetadata": {},
     "inputWidgets": {},
     "nuid": "48a5e3e1-d10c-42ec-9426-af14bb53ae3e",
     "showTitle": false,
     "title": ""
    }
   },
   "outputs": [],
   "source": [
    "pip install faker"
   ]
  },
  {
   "cell_type": "code",
   "execution_count": 0,
   "metadata": {
    "application/vnd.databricks.v1+cell": {
     "cellMetadata": {},
     "inputWidgets": {},
     "nuid": "51bebbfd-868b-4dc5-88f3-64be8a2bfc28",
     "showTitle": false,
     "title": ""
    }
   },
   "outputs": [],
   "source": [
    "from faker import Faker\n",
    "from pyspark.sql.types import StructType, StructField, StringType, IntegerType, DoubleType\n",
    "import random, time\n",
    "from datetime import datetime\n",
    "from pyspark.sql.functions import lit, to_timestamp\n",
    "import concurrent.futures"
   ]
  },
  {
   "cell_type": "code",
   "execution_count": 0,
   "metadata": {
    "application/vnd.databricks.v1+cell": {
     "cellMetadata": {},
     "inputWidgets": {},
     "nuid": "620e182c-140a-4ecd-819a-c33bf5ad0218",
     "showTitle": false,
     "title": ""
    }
   },
   "outputs": [],
   "source": [
    "data_schema = StructType([\n",
    "  StructField(\"id\", StringType(), True),\n",
    "  StructField(\"name\", StringType(), True),\n",
    "  StructField(\"age\", IntegerType(), True),\n",
    "  StructField(\"address\", StringType(), True),\n",
    "  StructField(\"email\", StringType(), True),\n",
    "  StructField(\"country\", StringType(), True),\n",
    "  StructField(\"latitude\", StringType(), True),\n",
    "  StructField(\"longitude\", StringType(), True),\n",
    "  StructField(\"url\", StringType(), True),\n",
    "  StructField(\"comments\", StringType(), True)\n",
    "])"
   ]
  },
  {
   "cell_type": "code",
   "execution_count": 0,
   "metadata": {
    "application/vnd.databricks.v1+cell": {
     "cellMetadata": {},
     "inputWidgets": {},
     "nuid": "d38cf2e3-be48-4a58-9b4f-2c997f43645f",
     "showTitle": false,
     "title": ""
    }
   },
   "outputs": [],
   "source": [
    "class GetWrite:\n",
    "    def __init__(self, load_date, database_name, table_name, data_schema, load_type):\n",
    "        self.load_date = load_date\n",
    "        self.database_name = database_name\n",
    "        self.table_name = table_name\n",
    "        self.data_schema = data_schema\n",
    "        self.load_type = load_type\n",
    "\n",
    "    def create_data(self, id):\n",
    "        return [[\n",
    "        id,\n",
    "        Faker().name(),\n",
    "        random.randint(15,60),\n",
    "        Faker().address(),\n",
    "        Faker().email(),\n",
    "        Faker().country(),\n",
    "        Faker().latitude(),\n",
    "        Faker().longitude(), \n",
    "        Faker().url(),\n",
    "        Faker().text()]]\n",
    "    \n",
    "    def create_df(self, id):\n",
    "        time.sleep(60)\n",
    "        return spark.createDataFrame(obj.create_data(id), self.data_schema)\n",
    "\n",
    "    def transform(self, id):\n",
    "        df = obj.create_df(id)\n",
    "        current_datetime = f'{datetime.now().strftime(\"%Y-%m-%dT%H:%M:%S\")[:16]+\":00\"}'\n",
    "        df_tranformed = df.withColumn(\"load_type\" , lit(self.load_type))\\\n",
    "                          .withColumn(\"time_of_ingestion\", lit(current_datetime))\\\n",
    "                          .withColumn(\"load_date\" , to_timestamp(lit(self.load_date)))\n",
    "        return df_tranformed\n",
    "\n",
    "    def write_data(self, id):\n",
    "        spark.sql(f\"CREATE DATABASE IF NOT EXISTS {self.database_name}\")\n",
    "        df = obj.transform(id)\n",
    "        df.write.mode(\"append\").saveAsTable(f\"{self.database_name}.{self.table_name}\")"
   ]
  }
 ],
 "metadata": {
  "application/vnd.databricks.v1+notebook": {
   "dashboards": [],
   "language": "python",
   "notebookMetadata": {
    "pythonIndentUnit": 4
   },
   "notebookName": "common_functions",
   "widgets": {}
  }
 },
 "nbformat": 4,
 "nbformat_minor": 0
}
