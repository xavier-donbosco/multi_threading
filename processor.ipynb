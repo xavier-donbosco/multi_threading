{
 "cells": [
  {
   "cell_type": "code",
   "execution_count": 0,
   "metadata": {
    "application/vnd.databricks.v1+cell": {
     "cellMetadata": {
      "byteLimit": 2048000,
      "rowLimit": 10000
     },
     "inputWidgets": {},
     "nuid": "a81f4260-368a-40b0-bc86-5dbdeda04bf3",
     "showTitle": false,
     "title": ""
    }
   },
   "outputs": [
    {
     "output_type": "stream",
     "name": "stdout",
     "output_type": "stream",
     "text": [
      "Python interpreter will be restarted.\nCollecting faker\n  Using cached Faker-24.2.0-py3-none-any.whl (1.8 MB)\nRequirement already satisfied: python-dateutil>=2.4 in /databricks/python3/lib/python3.9/site-packages (from faker) (2.8.2)\nRequirement already satisfied: six>=1.5 in /databricks/python3/lib/python3.9/site-packages (from python-dateutil>=2.4->faker) (1.16.0)\nInstalling collected packages: faker\nSuccessfully installed faker-24.2.0\nPython interpreter will be restarted.\n"
     ]
    }
   ],
   "source": [
    "%run /Workspace/Users/xavier.donbosco@diggibyte.com/multi-threating/common_functions"
   ]
  },
  {
   "cell_type": "code",
   "execution_count": 0,
   "metadata": {
    "application/vnd.databricks.v1+cell": {
     "cellMetadata": {
      "byteLimit": 2048000,
      "rowLimit": 10000
     },
     "inputWidgets": {},
     "nuid": "181265cf-09de-4688-b8c5-7fa6f91b7bb8",
     "showTitle": false,
     "title": ""
    }
   },
   "outputs": [],
   "source": [
    "dbutils.widgets.text(\"load_date\", \"\", \"load_date\")\n",
    "dbutils.widgets.text(\"database_name\", \"\", \"database_name\")\n",
    "dbutils.widgets.text(\"table_name\", \"\", \"table_name\")\n",
    "dbutils.widgets.text(\"load_type\", \"\", \"load_type\")\n",
    "\n",
    "load_date = dbutils.widgets.get(\"load_date\")\n",
    "database_name = dbutils.widgets.get(\"database_name\")\n",
    "table_name = dbutils.widgets.get(\"table_name\")\n",
    "load_type = dbutils.widgets.get(\"load_type\")"
   ]
  },
  {
   "cell_type": "code",
   "execution_count": 0,
   "metadata": {
    "application/vnd.databricks.v1+cell": {
     "cellMetadata": {
      "byteLimit": 2048000,
      "rowLimit": 10000
     },
     "inputWidgets": {},
     "nuid": "fd790a3b-a7d8-450b-a748-229429425026",
     "showTitle": false,
     "title": ""
    }
   },
   "outputs": [],
   "source": [
    "obj = GetWrite(load_date, database_name, table_name, data_schema, load_type)"
   ]
  },
  {
   "cell_type": "code",
   "execution_count": 0,
   "metadata": {
    "application/vnd.databricks.v1+cell": {
     "cellMetadata": {
      "byteLimit": 2048000,
      "rowLimit": 10000
     },
     "inputWidgets": {},
     "nuid": "f62ba738-8a5f-4b95-af4b-de27f2c12b46",
     "showTitle": false,
     "title": ""
    }
   },
   "outputs": [
    {
     "output_type": "stream",
     "name": "stdout",
     "output_type": "stream",
     "text": [
      "Out[9]: [None]"
     ]
    }
   ],
   "source": [
    "list(map(lambda x: obj.write_data(x), range(1)))"
   ]
  },
  {
   "cell_type": "code",
   "execution_count": 0,
   "metadata": {
    "application/vnd.databricks.v1+cell": {
     "cellMetadata": {
      "byteLimit": 2048000,
      "rowLimit": 10000
     },
     "inputWidgets": {},
     "nuid": "6be2fe1a-3e21-4104-b02d-398ade5b9597",
     "showTitle": false,
     "title": ""
    }
   },
   "outputs": [],
   "source": [
    "def thread_pool(fun_name, responses, max_workers=32):\n",
    "    with concurrent.futures.ThreadPoolExecutor(max_workers=max_workers) as executor:\n",
    "        futures = [executor.submit(fun_name, response) for response in responses]\n",
    "        concurrent.futures.wait(futures)"
   ]
  },
  {
   "cell_type": "code",
   "execution_count": 0,
   "metadata": {
    "application/vnd.databricks.v1+cell": {
     "cellMetadata": {
      "byteLimit": 2048000,
      "rowLimit": 10000
     },
     "inputWidgets": {},
     "nuid": "05e8b9eb-357e-42b7-8895-0c531b07123f",
     "showTitle": false,
     "title": ""
    }
   },
   "outputs": [],
   "source": [
    "thread_pool(obj.write_data, range(1000))"
   ]
  },
  {
   "cell_type": "code",
   "execution_count": 0,
   "metadata": {
    "application/vnd.databricks.v1+cell": {
     "cellMetadata": {
      "byteLimit": 2048000,
      "implicitDf": true,
      "rowLimit": 10000
     },
     "inputWidgets": {},
     "nuid": "92e735bc-e80c-4ee4-ac61-3dc564b27e16",
     "showTitle": false,
     "title": ""
    }
   },
   "outputs": [
    {
     "output_type": "display_data",
     "data": {
      "text/html": [
       "<style scoped>\n",
       "  .table-result-container {\n",
       "    max-height: 300px;\n",
       "    overflow: auto;\n",
       "  }\n",
       "  table, th, td {\n",
       "    border: 1px solid black;\n",
       "    border-collapse: collapse;\n",
       "  }\n",
       "  th, td {\n",
       "    padding: 5px;\n",
       "  }\n",
       "  th {\n",
       "    text-align: left;\n",
       "  }\n",
       "</style><div class='table-result-container'><table class='table-result'><thead style='background-color: white'><tr><th>time_of_ingestion</th><th>count(1)</th></tr></thead><tbody><tr><td>2024-03-18T16:51:00</td><td>32</td></tr><tr><td>2024-03-18T16:52:00</td><td>27</td></tr><tr><td>2024-03-18T16:54:00</td><td>31</td></tr><tr><td>2024-03-18T16:30:00</td><td>29</td></tr><tr><td>2024-03-18T16:47:00</td><td>30</td></tr><tr><td>2024-03-18T16:40:00</td><td>30</td></tr><tr><td>2024-03-18T16:44:00</td><td>31</td></tr><tr><td>2024-03-18T16:33:00</td><td>30</td></tr><tr><td>2024-03-18T16:50:00</td><td>30</td></tr><tr><td>2024-03-18T16:25:00</td><td>10</td></tr><tr><td>2024-03-18T16:42:00</td><td>24</td></tr><tr><td>2024-03-18T16:53:00</td><td>28</td></tr><tr><td>2024-03-18T16:55:00</td><td>26</td></tr><tr><td>2024-03-18T16:57:00</td><td>30</td></tr><tr><td>2024-03-18T16:32:00</td><td>30</td></tr><tr><td>2024-03-18T16:36:00</td><td>30</td></tr><tr><td>2024-03-18T16:39:00</td><td>32</td></tr><tr><td>2024-03-18T16:49:00</td><td>31</td></tr><tr><td>2024-03-18T16:34:00</td><td>31</td></tr><tr><td>2024-03-18T16:28:00</td><td>32</td></tr><tr><td>2024-03-18T16:31:00</td><td>29</td></tr><tr><td>2024-03-18T16:58:00</td><td>20</td></tr><tr><td>2024-03-18T16:56:00</td><td>31</td></tr><tr><td>2024-03-18T16:41:00</td><td>31</td></tr><tr><td>2024-03-18T16:43:00</td><td>32</td></tr><tr><td>2024-03-18T16:46:00</td><td>31</td></tr><tr><td>2024-03-18T16:48:00</td><td>31</td></tr><tr><td>2024-03-18T16:45:00</td><td>30</td></tr><tr><td>2024-03-18T16:35:00</td><td>30</td></tr><tr><td>2024-03-18T16:37:00</td><td>30</td></tr><tr><td>2024-03-18T16:38:00</td><td>29</td></tr><tr><td>2024-03-18T16:29:00</td><td>13</td></tr><tr><td>2024-03-18T16:24:00</td><td>1</td></tr></tbody></table></div>"
      ]
     },
     "metadata": {
      "application/vnd.databricks.v1+output": {
       "addedWidgets": {},
       "aggData": [],
       "aggError": "",
       "aggOverflow": false,
       "aggSchema": [],
       "aggSeriesLimitReached": false,
       "aggType": "",
       "arguments": {},
       "columnCustomDisplayInfos": {},
       "data": [
        [
         "2024-03-18T16:51:00",
         32
        ],
        [
         "2024-03-18T16:52:00",
         27
        ],
        [
         "2024-03-18T16:54:00",
         31
        ],
        [
         "2024-03-18T16:30:00",
         29
        ],
        [
         "2024-03-18T16:47:00",
         30
        ],
        [
         "2024-03-18T16:40:00",
         30
        ],
        [
         "2024-03-18T16:44:00",
         31
        ],
        [
         "2024-03-18T16:33:00",
         30
        ],
        [
         "2024-03-18T16:50:00",
         30
        ],
        [
         "2024-03-18T16:25:00",
         10
        ],
        [
         "2024-03-18T16:42:00",
         24
        ],
        [
         "2024-03-18T16:53:00",
         28
        ],
        [
         "2024-03-18T16:55:00",
         26
        ],
        [
         "2024-03-18T16:57:00",
         30
        ],
        [
         "2024-03-18T16:32:00",
         30
        ],
        [
         "2024-03-18T16:36:00",
         30
        ],
        [
         "2024-03-18T16:39:00",
         32
        ],
        [
         "2024-03-18T16:49:00",
         31
        ],
        [
         "2024-03-18T16:34:00",
         31
        ],
        [
         "2024-03-18T16:28:00",
         32
        ],
        [
         "2024-03-18T16:31:00",
         29
        ],
        [
         "2024-03-18T16:58:00",
         20
        ],
        [
         "2024-03-18T16:56:00",
         31
        ],
        [
         "2024-03-18T16:41:00",
         31
        ],
        [
         "2024-03-18T16:43:00",
         32
        ],
        [
         "2024-03-18T16:46:00",
         31
        ],
        [
         "2024-03-18T16:48:00",
         31
        ],
        [
         "2024-03-18T16:45:00",
         30
        ],
        [
         "2024-03-18T16:35:00",
         30
        ],
        [
         "2024-03-18T16:37:00",
         30
        ],
        [
         "2024-03-18T16:38:00",
         29
        ],
        [
         "2024-03-18T16:29:00",
         13
        ],
        [
         "2024-03-18T16:24:00",
         1
        ]
       ],
       "datasetInfos": [],
       "dbfsResultPath": null,
       "isJsonSchema": true,
       "metadata": {
        "isDbfsCommandResult": false
       },
       "overflow": false,
       "plotOptions": {
        "customPlotOptions": {},
        "displayType": "table",
        "pivotAggregation": null,
        "pivotColumns": null,
        "xColumns": null,
        "yColumns": null
       },
       "removedWidgets": [],
       "schema": [
        {
         "metadata": "{}",
         "name": "time_of_ingestion",
         "type": "\"string\""
        },
        {
         "metadata": "{\"__autoGeneratedAlias\":\"true\"}",
         "name": "count(1)",
         "type": "\"long\""
        }
       ],
       "type": "table"
      }
     },
     "output_type": "display_data"
    }
   ],
   "source": [
    "%sql\n",
    "select time_of_ingestion, count(*) from employee.employee_details group by time_of_ingestion"
   ]
  },
  {
   "cell_type": "code",
   "execution_count": 0,
   "metadata": {
    "application/vnd.databricks.v1+cell": {
     "cellMetadata": {
      "byteLimit": 2048000,
      "implicitDf": true,
      "rowLimit": 10000
     },
     "inputWidgets": {},
     "nuid": "735b0ac7-9aa2-434a-b2da-d84335b60b7e",
     "showTitle": false,
     "title": ""
    }
   },
   "outputs": [
    {
     "output_type": "display_data",
     "data": {
      "text/html": [
       "<style scoped>\n",
       "  .table-result-container {\n",
       "    max-height: 300px;\n",
       "    overflow: auto;\n",
       "  }\n",
       "  table, th, td {\n",
       "    border: 1px solid black;\n",
       "    border-collapse: collapse;\n",
       "  }\n",
       "  th, td {\n",
       "    padding: 5px;\n",
       "  }\n",
       "  th {\n",
       "    text-align: left;\n",
       "  }\n",
       "</style><div class='table-result-container'><table class='table-result'><thead style='background-color: white'><tr></tr></thead><tbody></tbody></table></div>"
      ]
     },
     "metadata": {
      "application/vnd.databricks.v1+output": {
       "addedWidgets": {},
       "aggData": [],
       "aggError": "",
       "aggOverflow": false,
       "aggSchema": [],
       "aggSeriesLimitReached": false,
       "aggType": "",
       "arguments": {},
       "columnCustomDisplayInfos": {},
       "data": [],
       "datasetInfos": [],
       "dbfsResultPath": null,
       "isJsonSchema": true,
       "metadata": {},
       "overflow": false,
       "plotOptions": {
        "customPlotOptions": {},
        "displayType": "table",
        "pivotAggregation": null,
        "pivotColumns": null,
        "xColumns": null,
        "yColumns": null
       },
       "removedWidgets": [],
       "schema": [],
       "type": "table"
      }
     },
     "output_type": "display_data"
    }
   ],
   "source": [
    "# %sql\n",
    "# drop table employee.employee_details"
   ]
  }
 ],
 "metadata": {
  "application/vnd.databricks.v1+notebook": {
   "dashboards": [],
   "language": "python",
   "notebookMetadata": {
    "mostRecentlyExecutedCommandWithImplicitDF": {
     "commandId": -1,
     "dataframes": [
      "_sqldf"
     ]
    },
    "pythonIndentUnit": 4
   },
   "notebookName": "processor",
   "widgets": {
    "database_name": {
     "currentValue": "employee",
     "nuid": "cbd77d12-ed84-40d8-bb12-b46501b5424f",
     "widgetInfo": {
      "widgetType": "text",
      "defaultValue": "",
      "label": "database_name",
      "name": "database_name",
      "options": {
       "widgetType": "text",
       "autoCreated": null,
       "validationRegex": null
      }
     }
    },
    "load_date": {
     "currentValue": "2024-03-18",
     "nuid": "defd1219-f7cd-4554-b263-21ab625c3a86",
     "widgetInfo": {
      "widgetType": "text",
      "defaultValue": "",
      "label": "load_date",
      "name": "load_date",
      "options": {
       "widgetType": "text",
       "autoCreated": null,
       "validationRegex": null
      }
     }
    },
    "load_type": {
     "currentValue": "multi-threading",
     "nuid": "38611387-8d4f-4782-8bbe-4273b3671455",
     "widgetInfo": {
      "widgetType": "text",
      "defaultValue": "",
      "label": "load_type",
      "name": "load_type",
      "options": {
       "widgetType": "text",
       "autoCreated": null,
       "validationRegex": null
      }
     }
    },
    "table_name": {
     "currentValue": "employee_details",
     "nuid": "3d029189-63e5-4298-a98e-48974a8711b4",
     "widgetInfo": {
      "widgetType": "text",
      "defaultValue": "",
      "label": "table_name",
      "name": "table_name",
      "options": {
       "widgetType": "text",
       "autoCreated": null,
       "validationRegex": null
      }
     }
    }
   }
  }
 },
 "nbformat": 4,
 "nbformat_minor": 0
}
